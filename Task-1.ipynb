{
 "cells": [
  {
   "cell_type": "markdown",
   "id": "223b039b-45d5-4fe4-af06-17a4a8d1b6cf",
   "metadata": {},
   "source": [
    "### Emphasis"
   ]
  },
  {
   "cell_type": "markdown",
   "id": "945a2592-6d6f-4eda-bb20-3592622b0dca",
   "metadata": {},
   "source": [
    "#### 1. Bold text"
   ]
  },
  {
   "cell_type": "markdown",
   "id": "e2cb1677-52ee-4df0-b39a-e17021177a2a",
   "metadata": {},
   "source": [
    "__Python__ or **python**"
   ]
  },
  {
   "cell_type": "markdown",
   "id": "7bf699ec-ee63-4b3f-9710-a206d2d5c29f",
   "metadata": {},
   "source": [
    "#### 2. Italic text"
   ]
  },
  {
   "cell_type": "markdown",
   "id": "7a61f61c-47c9-4ae2-924c-94bee174a2fa",
   "metadata": {},
   "source": [
    "_Sejal_ or *Sejal*"
   ]
  },
  {
   "cell_type": "markdown",
   "id": "880dcbc2-67e0-4e7c-b729-163dda595e3a",
   "metadata": {},
   "source": [
    "#### 3. Line break"
   ]
  },
  {
   "cell_type": "markdown",
   "id": "c1f8061b-446e-4bd5-a1a3-32957e4624e1",
   "metadata": {},
   "source": [
    "Da-9 <br> Batch"
   ]
  },
  {
   "cell_type": "markdown",
   "id": "764c6625-7888-4661-b6f1-5a25a6734050",
   "metadata": {},
   "source": [
    "#### 4. new line "
   ]
  },
  {
   "cell_type": "markdown",
   "id": "e93803e2-4ccd-49d6-886d-d2c5933fbdf3",
   "metadata": {},
   "source": [
    "*** "
   ]
  },
  {
   "cell_type": "markdown",
   "id": "d88a412e-9911-43d5-9559-03cabfdea00c",
   "metadata": {},
   "source": [
    "#### 5.Ordered list"
   ]
  },
  {
   "cell_type": "markdown",
   "id": "5a8ea702-e545-4a16-a23b-73bc6f8648b5",
   "metadata": {},
   "source": [
    "1.first item 2.secound item 3.third item"
   ]
  },
  {
   "cell_type": "markdown",
   "id": "d8c77a85-0540-4122-8a01-944287e59778",
   "metadata": {},
   "source": [
    "#### 6.Strikethrough"
   ]
  },
  {
   "cell_type": "markdown",
   "id": "8e086d39-8451-4ec4-a665-b4cfacf6711c",
   "metadata": {},
   "source": [
    "~~xyz~~"
   ]
  },
  {
   "cell_type": "markdown",
   "id": "2f1c9ac6-aa92-4a50-9f0a-8740b0aca390",
   "metadata": {},
   "source": [
    "#### 7. Subscript"
   ]
  },
  {
   "cell_type": "markdown",
   "id": "9e4c5e28-7e9b-4354-915c-db9a2468fae7",
   "metadata": {},
   "source": [
    "Hello <sub> python "
   ]
  },
  {
   "cell_type": "markdown",
   "id": "69e3d304-ecd0-4661-b961-8effa4f62143",
   "metadata": {},
   "source": [
    "#### 8. Superscript"
   ]
  },
  {
   "cell_type": "markdown",
   "id": "bdd986ca-52a8-494e-b169-358394f265ec",
   "metadata": {},
   "source": [
    "Hello <sup> Python"
   ]
  },
  {
   "cell_type": "markdown",
   "id": "520935b3-86da-4e62-926f-a4ef962e5eca",
   "metadata": {},
   "source": [
    "#### 9. Blockquotes"
   ]
  },
  {
   "cell_type": "markdown",
   "id": "9be4d39d-1944-48df-a0ff-b1c6544874fd",
   "metadata": {},
   "source": [
    ">ARC\n",
    ">>Da-9\n",
    ">>>Data Analytics"
   ]
  },
  {
   "cell_type": "markdown",
   "id": "c8f8f4d4-dbf8-430e-818a-ee9af27ee6b0",
   "metadata": {},
   "source": [
    "#### 10. Table"
   ]
  },
  {
   "cell_type": "markdown",
   "id": "b269a0bd-9571-4259-bc0c-ba320595685c",
   "metadata": {},
   "source": [
    "|Student|add| \n",
    "|---------:|--------:|\n",
    "|s1|add1|"
   ]
  },
  {
   "cell_type": "markdown",
   "id": "e2c58f6c-3b70-4378-a1b6-b9b303d3e198",
   "metadata": {},
   "source": [
    "### Mathematical \n"
   ]
  },
  {
   "cell_type": "markdown",
   "id": "3f7660fc-fe69-42a0-976f-6b6780c4567b",
   "metadata": {},
   "source": [
    "#### 11.greek character"
   ]
  },
  {
   "cell_type": "markdown",
   "id": "1a8c75e3-6a92-4998-92d7-16597aba78c3",
   "metadata": {},
   "source": [
    "$\\alpha,\\beta$"
   ]
  },
  {
   "cell_type": "markdown",
   "id": "e89e8579-a034-404f-a1aa-0b3ddf5a9931",
   "metadata": {},
   "source": [
    "#### 12.summation"
   ]
  },
  {
   "cell_type": "markdown",
   "id": "c4d42af5-ffd1-49e6-bc8c-c0f99d4c1967",
   "metadata": {},
   "source": [
    "$$\n",
    "\\sum_{i=1}^{5} x_i\n",
    "$$"
   ]
  },
  {
   "cell_type": "markdown",
   "id": "ab65eba0-9380-4f7a-9e76-b8e9ee756d67",
   "metadata": {},
   "source": [
    "#### 13. Monospace font"
   ]
  },
  {
   "cell_type": "markdown",
   "id": "d88b8502-1ff6-4966-a34c-27d95dd997bd",
   "metadata": {},
   "source": [
    "'Sejal' 'Rokade'\n"
   ]
  },
  {
   "cell_type": "markdown",
   "id": "5ec140a7-c5af-4354-9aa6-dbc0a62cb7cf",
   "metadata": {},
   "source": [
    "#### 14. Link"
   ]
  },
  {
   "cell_type": "markdown",
   "id": "e8ab446b-2a11-4358-af97-2f12ffd34d80",
   "metadata": {},
   "source": [
    "[Location ARC](https://www.google.com/maps/dir//Arc+Technologies+And+Institutions,+Gurudev+Nagar+Main+Rd,+beside+HPCL+Gurudeo+Petrol+Pump,+Nagpur,+Maharashtra+440009/data=!4m6!4m5!1m1!4e2!1m2!1m1!1s0x3bd4c742b8355b1d:0x14a5864727eef499?sa=X&ved=1t:57443&ictx=111)"
   ]
  },
  {
   "cell_type": "code",
   "execution_count": null,
   "id": "d36d18a8-e76a-4eeb-8712-358822ee7554",
   "metadata": {},
   "outputs": [],
   "source": []
  }
 ],
 "metadata": {
  "kernelspec": {
   "display_name": "Python 3 (ipykernel)",
   "language": "python",
   "name": "python3"
  },
  "language_info": {
   "codemirror_mode": {
    "name": "ipython",
    "version": 3
   },
   "file_extension": ".py",
   "mimetype": "text/x-python",
   "name": "python",
   "nbconvert_exporter": "python",
   "pygments_lexer": "ipython3",
   "version": "3.12.4"
  }
 },
 "nbformat": 4,
 "nbformat_minor": 5
}
